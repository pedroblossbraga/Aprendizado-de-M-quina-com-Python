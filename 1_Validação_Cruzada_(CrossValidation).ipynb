{
  "nbformat": 4,
  "nbformat_minor": 0,
  "metadata": {
    "colab": {
      "name": "1 - Validação Cruzada (CrossValidation).ipynb",
      "provenance": [],
      "collapsed_sections": [],
      "authorship_tag": "ABX9TyPbiDSIxCWFQViKBLamTEQc",
      "include_colab_link": true
    },
    "kernelspec": {
      "name": "python3",
      "display_name": "Python 3"
    }
  },
  "cells": [
    {
      "cell_type": "markdown",
      "metadata": {
        "id": "view-in-github",
        "colab_type": "text"
      },
      "source": [
        "<a href=\"https://colab.research.google.com/github/pedroblossbraga/Aprendizado-de-Maquina-com-Python/blob/main/1_Valida%C3%A7%C3%A3o_Cruzada_(CrossValidation).ipynb\" target=\"_parent\"><img src=\"https://colab.research.google.com/assets/colab-badge.svg\" alt=\"Open In Colab\"/></a>"
      ]
    },
    {
      "cell_type": "markdown",
      "metadata": {
        "id": "m67tGh_Q1FxY"
      },
      "source": [
        "# Validação Cruzada de K \"folhas\"\n",
        "- É uma técnica de avalização da capacidade de generalização de um modelo, a partir de dados de input.\n",
        "- Em outras palavras, expressa a performance do modelo para diferentes amostras de dados, e como o modelo performa de acordo com essa diversidade\n",
        "- É útil para combater o overfitting (super-ajuste do modelo, falha de generalização)\n",
        "\n",
        "## Formulação\n",
        "\n",
        "Por exemplo, dada uma sequência $\\{ x_j \\}_{j=1}^N$ de $N$ valores.\n",
        "\n",
        "Seja $\\mathcal{P}: \\mathbb{R}^n \\rightarrow \\mathbb{R}$ a função de avaliação de performance.\n",
        "\n",
        "A performance de validação cruzada $\\mathcal{P}_{CV}$ pode ser computada :\n",
        "- dividindo os dados em $K-1$ sub-amostras:\n",
        "\n",
        "\\begin{equation}\n",
        "\\{\\{x_j \\}_{j=1}^{\\frac{N}{K}}, \\quad \\{x_j \\}_{j=\\frac{N}{K}+1}^{\\frac{2N}{K}}, \\quad ... \\quad \\{x_j\\}_{j=\\frac{(K-1)N}{K}+1}^{N} \\}= \\{s_k\\}_k^{N-1} \\in \\mathbb{R}^n\n",
        "\\end{equation}\n",
        "\n",
        "- computando a performance para cada sub-amostra:\n",
        "\n",
        "\\begin{equation}\n",
        "\\{ \\mathcal{P}(s_k)\\}_{s_k \\in  \\{s_k\\}}\n",
        "\\end{equation}\n",
        "\n",
        "- computando a média do vetor de performances:\n",
        "\n",
        "\\begin{equation}\n",
        "\\mathcal{P}_{CV} = \\frac{1}{K}\\sum_{i=0}^{K-1} \\mathcal{P}(\\{x_j\\}_{j=(\\frac{iN}{K})+1}^{\\frac{(i+1)N}{K}})\n",
        "\\end{equation}\n",
        "\n",
        "- Observação: o pré-processamento dos dados (escalonamento em uma determinada distribuição) é outro método importante para regularização do modelo\n",
        "\n",
        "\n",
        "## Links:\n",
        "- https://scikit-learn.org/stable/modules/cross_validation.html\n",
        "\n",
        "\n",
        "## Exemplo:"
      ]
    },
    {
      "cell_type": "code",
      "metadata": {
        "id": "OL2mExtl1DKu",
        "colab": {
          "base_uri": "https://localhost:8080/"
        },
        "outputId": "ad73b1db-76f2-4ffc-fe84-57d33d15c7a3"
      },
      "source": [
        "from sklearn import datasets\n",
        "from sklearn.model_selection import train_test_split\n",
        "from sklearn import svm\n",
        "\n",
        "## extraindo os dados\n",
        "X,y = datasets.load_iris(return_X_y=True)\n",
        "## train-test-split\n",
        "X_train, X_test, y_train, y_test = train_test_split(X,y, test_size=0.4, random_state=0)\n",
        "\n",
        "## definindo um modelo e ajustando-o (fitting)\n",
        "clf = svm.SVC(kernel='linear', C=1).fit(X_train, y_train)\n",
        "clf.score(X_test, y_test)"
      ],
      "execution_count": null,
      "outputs": [
        {
          "output_type": "execute_result",
          "data": {
            "text/plain": [
              "0.9666666666666667"
            ]
          },
          "metadata": {
            "tags": []
          },
          "execution_count": 1
        }
      ]
    },
    {
      "cell_type": "code",
      "metadata": {
        "colab": {
          "base_uri": "https://localhost:8080/"
        },
        "id": "54jNPBlx7T8G",
        "outputId": "da45c718-bd55-4f95-add5-71be5f205988"
      },
      "source": [
        "from sklearn.model_selection import cross_val_score\n",
        "\n",
        "clf = svm.SVC(kernel='linear', C=1, random_state=42)\n",
        "scores = cross_val_score(clf, X, y, cv=5)\n",
        "scores"
      ],
      "execution_count": null,
      "outputs": [
        {
          "output_type": "execute_result",
          "data": {
            "text/plain": [
              "array([0.96666667, 1.        , 0.96666667, 0.96666667, 1.        ])"
            ]
          },
          "metadata": {
            "tags": []
          },
          "execution_count": 2
        }
      ]
    },
    {
      "cell_type": "code",
      "metadata": {
        "colab": {
          "base_uri": "https://localhost:8080/"
        },
        "id": "S9wC8M-o8DG7",
        "outputId": "fbedd1e1-6b0f-48ba-ce67-fec1fd25c362"
      },
      "source": [
        "print(\"acurácia média: %0.3f (+- %0.3f (desvio padrão))\" %(scores.mean(), scores.std()))"
      ],
      "execution_count": null,
      "outputs": [
        {
          "output_type": "stream",
          "text": [
            "acurácia média: 0.980 (+- 0.016 (desvio padrão))\n"
          ],
          "name": "stdout"
        }
      ]
    },
    {
      "cell_type": "markdown",
      "metadata": {
        "id": "dQwhZ-3r8439"
      },
      "source": [
        "### Dica\n",
        "\n",
        "- com **pipeline** torna-se fácil de implementar validação cruzada juntamente ao pré-processamento, estimando a performance:"
      ]
    },
    {
      "cell_type": "code",
      "metadata": {
        "colab": {
          "base_uri": "https://localhost:8080/"
        },
        "id": "Azw51DUc9JW5",
        "outputId": "c1fa5d48-ff8d-406a-eb9f-033f3d073632"
      },
      "source": [
        "from sklearn import preprocessing\n",
        "from sklearn.pipeline import make_pipeline\n",
        "from sklearn.model_selection import ShuffleSplit\n",
        "\n",
        "cv = ShuffleSplit(n_splits=5, test_size=0.3, random_state=0)\n",
        "clf = make_pipeline(preprocessing.StandardScaler(), svm.SVC(C=1))\n",
        "cross_val_score(clf, X, y, cv=cv)"
      ],
      "execution_count": null,
      "outputs": [
        {
          "output_type": "execute_result",
          "data": {
            "text/plain": [
              "array([0.97777778, 0.93333333, 0.95555556, 0.93333333, 0.97777778])"
            ]
          },
          "metadata": {
            "tags": []
          },
          "execution_count": 4
        }
      ]
    },
    {
      "cell_type": "code",
      "metadata": {
        "colab": {
          "base_uri": "https://localhost:8080/",
          "height": 385
        },
        "id": "WbWX4QfM-J9A",
        "outputId": "dbdee218-7e9b-4ba1-ae4e-3be7360fc6af"
      },
      "source": [
        "from sklearn import preprocessing\n",
        "import seaborn as sns\n",
        "import matplotlib.pyplot as plt\n",
        "\n",
        "\n",
        "X_train, X_test, y_train, y_test = train_test_split(\n",
        "    X, y, test_size=0.4, random_state=0)\n",
        "\n",
        "scaler = preprocessing.StandardScaler().fit(X_train)\n",
        "\n",
        "X_train_transformed = scaler.transform(X_train)\n",
        "\n",
        "clf = svm.SVC(C=1).fit(X_train_transformed, y_train)\n",
        "\n",
        "X_test_transformed = scaler.transform(X_test)\n",
        "\n",
        "## plotando as distribuições\n",
        "plt.figure(figsize=(16, 4))\n",
        "plt.subplot(1,2,1)\n",
        "plt.title('X_teste')\n",
        "sns.distplot(X_test)\n",
        "\n",
        "plt.subplot(1,2,2)\n",
        "plt.title('X_teste_transformado')\n",
        "sns.distplot(X_test_transformed)\n",
        "\n",
        "plt.tight_layout()\n",
        "plt.show()"
      ],
      "execution_count": null,
      "outputs": [
        {
          "output_type": "stream",
          "text": [
            "/usr/local/lib/python3.6/dist-packages/seaborn/distributions.py:2557: FutureWarning: `distplot` is a deprecated function and will be removed in a future version. Please adapt your code to use either `displot` (a figure-level function with similar flexibility) or `histplot` (an axes-level function for histograms).\n",
            "  warnings.warn(msg, FutureWarning)\n",
            "/usr/local/lib/python3.6/dist-packages/seaborn/distributions.py:2557: FutureWarning: `distplot` is a deprecated function and will be removed in a future version. Please adapt your code to use either `displot` (a figure-level function with similar flexibility) or `histplot` (an axes-level function for histograms).\n",
            "  warnings.warn(msg, FutureWarning)\n"
          ],
          "name": "stderr"
        },
        {
          "output_type": "display_data",
          "data": {
            "image/png": "[encoded data removed]",
            "text/plain": [
              "<Figure size 1152x288 with 2 Axes>"
            ]
          },
          "metadata": {
            "tags": [],
            "needs_background": "light"
          }
        }
      ]
    }
  ]
}